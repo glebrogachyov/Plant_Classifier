{
 "nbformat": 4,
 "nbformat_minor": 0,
 "metadata": {
  "colab": {
   "name": "MobileNetV2 good.ipynb",
   "provenance": [],
   "collapsed_sections": []
  },
  "kernelspec": {
   "name": "python3",
   "display_name": "Python 3"
  },
  "language_info": {
   "name": "python"
  },
  "accelerator": "GPU"
 },
 "cells": [
  {
   "cell_type": "code",
   "execution_count": null,
   "outputs": [],
   "source": [
    "from keras.preprocessing.image import ImageDataGenerator\n",
    "from keras.models import Sequential\n",
    "from keras.layers import Activation, Dropout, Flatten, Dense\n",
    "from keras.applications import MobileNetV2\n",
    "from keras.optimizers import Adam"
   ],
   "metadata": {
    "collapsed": false,
    "pycharm": {
     "name": "#%%\n"
    }
   }
  },
  {
   "cell_type": "code",
   "metadata": {
    "id": "xSaHLKHdTCtZ",
    "colab": {
     "base_uri": "https://localhost:8080/"
    },
    "outputId": "55e9e5d4-352f-4604-dece-b044f3d52bcc"
   },
   "source": [
    "import zipfile\n",
    "import os\n",
    "from google.colab import drive\n",
    "drive.mount('/content/drive')"
   ],
   "execution_count": null,
   "outputs": [
    {
     "output_type": "stream",
     "text": [
      "Mounted at /content/drive\n"
     ],
     "name": "stdout"
    }
   ]
  },
  {
   "cell_type": "code",
   "metadata": {
    "id": "dwf09rWwTEmp",
    "colab": {
     "base_uri": "https://localhost:8080/"
    },
    "outputId": "e26d1e87-4b84-4395-a671-e8e52d90acdf"
   },
   "source": [
    "print(os.listdir(\"drive/MyDrive/Plant/\"))\n",
    "\n",
    "zip_file = 'drive/MyDrive/Plant/ds_sep.zip'\n",
    "# zip_file = 'drive/Plant/dataset.zip'\n",
    "z = zipfile.ZipFile(zip_file, 'r')\n",
    "z.extractall()\n",
    "\n",
    "print(os.listdir())"
   ],
   "execution_count": null,
   "outputs": [
    {
     "output_type": "stream",
     "text": [
      "['dataset.zip', 'ds2.zip', 'ds_sep.zip']\n",
      "['.config', 'drive', 'ds_sep', 'sample_data']\n"
     ],
     "name": "stdout"
    }
   ]
  },
  {
   "cell_type": "code",
   "metadata": {
    "id": "1Ljyrk_BTGip"
   },
   "source": [
    "# Пути к данным\n",
    "train_dir = 'ds_sep/train'\n",
    "val_dir = 'ds_sep/val'\n",
    "test_dir = 'ds_sep/test'\n",
    "\n",
    "# Настройки\n",
    "img_width, img_height = 224, 224\n",
    "input_shape = (img_width, img_height, 3)\n",
    "batch_size = 64\n",
    "nb_train_samples = 4570\n",
    "nb_validation_samples = 1407\n",
    "nb_test_samples = 1062"
   ],
   "execution_count": null,
   "outputs": []
  },
  {
   "cell_type": "code",
   "metadata": {
    "id": "PuAvmUD0THAp"
   },
   "source": [
    "MN2_net = MobileNetV2(weights='imagenet', include_top=False, input_shape=(224, 224, 3))\n",
    "MN2_net.trainable = False\n",
    "MN2_net.summary()"
   ],
   "execution_count": null,
   "outputs": []
  },
  {
   "cell_type": "code",
   "metadata": {
    "id": "jpYpqOKsTJex"
   },
   "source": [
    "from keras.layers import GlobalAveragePooling2D \n",
    "\n",
    "model = Sequential()\n",
    "model.add(MN2_net)\n",
    "model.add(GlobalAveragePooling2D())\n",
    "model.add(Dense(196, activation='softmax'))\n",
    "\n",
    "model.summary()"
   ],
   "execution_count": null,
   "outputs": []
  },
  {
   "cell_type": "code",
   "metadata": {
    "id": "uQ395r98TMCJ"
   },
   "source": [
    "model.compile(loss='categorical_crossentropy',\n",
    "              optimizer='adam', # Adam(lr=1e-5),\n",
    "              metrics=['accuracy', TopKCategoricalAccuracy(k=5)])"
   ],
   "execution_count": null,
   "outputs": []
  },
  {
   "cell_type": "code",
   "execution_count": null,
   "outputs": [],
   "source": [
    "from keras.metrics import TopKCategoricalAccuracy\n",
    "\n",
    "model.compile(loss='categorical_crossentropy',\n",
    "              optimizer='adam', # Adam(lr=1e-5), \n",
    "              metrics=['accuracy', TopKCategoricalAccuracy(k=5)])\n"
   ],
   "metadata": {
    "collapsed": false,
    "pycharm": {
     "name": "#%%\n"
    }
   }
  },
  {
   "cell_type": "code",
   "metadata": {
    "id": "UXN7R_zTTNOZ"
   },
   "source": [
    "train_datagen = ImageDataGenerator(rescale=1. / 255,\n",
    "                                   rotation_range=30, zoom_range=0.5,\n",
    "                                   horizontal_flip=True, vertical_flip=True)\n",
    "\n",
    "datagen = ImageDataGenerator(rescale=1. / 255)"
   ],
   "execution_count": null,
   "outputs": []
  },
  {
   "cell_type": "code",
   "metadata": {
    "id": "XjKN9qB0TVGJ",
    "colab": {
     "base_uri": "https://localhost:8080/"
    },
    "outputId": "f917d9f0-31b2-48e8-dea6-e7037225c0f3"
   },
   "source": [
    "train_generator = train_datagen.flow_from_directory(\n",
    "    train_dir,\n",
    "    target_size=(img_width, img_height),\n",
    "    batch_size=batch_size,\n",
    "    class_mode='categorical',\n",
    "    )"
   ],
   "execution_count": null,
   "outputs": [
    {
     "output_type": "stream",
     "text": [
      "Found 4570 images belonging to 196 classes.\n"
     ],
     "name": "stdout"
    }
   ]
  },
  {
   "cell_type": "code",
   "metadata": {
    "id": "BRsVERoOTbtp",
    "colab": {
     "base_uri": "https://localhost:8080/"
    },
    "outputId": "3cff7e55-30a9-49ec-820a-30e6386add46"
   },
   "source": [
    "val_generator = datagen.flow_from_directory(\n",
    "    val_dir,\n",
    "    target_size=(img_width, img_height),\n",
    "    batch_size=batch_size,\n",
    "    class_mode='categorical')"
   ],
   "execution_count": null,
   "outputs": [
    {
     "output_type": "stream",
     "text": [
      "Found 1407 images belonging to 196 classes.\n"
     ],
     "name": "stdout"
    }
   ]
  },
  {
   "cell_type": "code",
   "metadata": {
    "id": "EYXqSO3aTcOB",
    "colab": {
     "base_uri": "https://localhost:8080/"
    },
    "outputId": "922b9178-c4dc-4e75-ab02-1178d35e87c0"
   },
   "source": [
    "test_generator = datagen.flow_from_directory(\n",
    "    test_dir,\n",
    "    target_size=(img_width, img_height),\n",
    "    batch_size=batch_size,\n",
    "    class_mode='categorical')"
   ],
   "execution_count": null,
   "outputs": [
    {
     "output_type": "stream",
     "text": [
      "Found 1062 images belonging to 196 classes.\n"
     ],
     "name": "stdout"
    }
   ]
  },
  {
   "cell_type": "code",
   "metadata": {
    "id": "tW0roaTSTdQ5",
    "colab": {
     "base_uri": "https://localhost:8080/"
    },
    "outputId": "ce5c5e67-bf3c-4cdb-c826-e8c1974a1ff9"
   },
   "source": [
    "model.fit_generator(\n",
    "    train_generator,\n",
    "    steps_per_epoch=nb_train_samples // batch_size,\n",
    "    epochs=50,\n",
    "    validation_data=val_generator,\n",
    "    validation_steps=nb_validation_samples // batch_size)"
   ],
   "execution_count": null,
   "outputs": [
    {
     "output_type": "stream",
     "text": [
      "/usr/local/lib/python3.7/dist-packages/tensorflow/python/keras/engine/training.py:1844: UserWarning: `Model.fit_generator` is deprecated and will be removed in a future version. Please use `Model.fit`, which supports generators.\n",
      "  warnings.warn('`Model.fit_generator` is deprecated and '\n"
     ],
     "name": "stderr"
    },
    {
     "output_type": "stream",
     "text": [
      "Epoch 1/50\n",
      "71/71 [==============================] - 53s 709ms/step - loss: 4.7388 - accuracy: 0.0995 - top_k_categorical_accuracy: 0.2374 - val_loss: 2.5225 - val_accuracy: 0.4546 - val_top_k_categorical_accuracy: 0.7292\n",
      "Epoch 2/50\n",
      "71/71 [==============================] - 50s 698ms/step - loss: 2.5400 - accuracy: 0.4279 - top_k_categorical_accuracy: 0.6912 - val_loss: 1.8220 - val_accuracy: 0.5759 - val_top_k_categorical_accuracy: 0.8311\n",
      "Epoch 3/50\n",
      "71/71 [==============================] - 50s 700ms/step - loss: 1.9462 - accuracy: 0.5309 - top_k_categorical_accuracy: 0.7993 - val_loss: 1.4419 - val_accuracy: 0.6719 - val_top_k_categorical_accuracy: 0.8891\n",
      "Epoch 4/50\n",
      "71/71 [==============================] - 50s 700ms/step - loss: 1.5886 - accuracy: 0.6300 - top_k_categorical_accuracy: 0.8602 - val_loss: 1.2615 - val_accuracy: 0.6949 - val_top_k_categorical_accuracy: 0.9182\n",
      "Epoch 5/50\n",
      "71/71 [==============================] - 50s 701ms/step - loss: 1.4195 - accuracy: 0.6564 - top_k_categorical_accuracy: 0.8823 - val_loss: 1.1395 - val_accuracy: 0.7232 - val_top_k_categorical_accuracy: 0.9219\n",
      "Epoch 6/50\n",
      "71/71 [==============================] - 50s 700ms/step - loss: 1.2327 - accuracy: 0.7087 - top_k_categorical_accuracy: 0.9048 - val_loss: 1.0676 - val_accuracy: 0.7254 - val_top_k_categorical_accuracy: 0.9345\n",
      "Epoch 7/50\n",
      "71/71 [==============================] - 49s 697ms/step - loss: 1.1651 - accuracy: 0.7083 - top_k_categorical_accuracy: 0.9222 - val_loss: 0.9811 - val_accuracy: 0.7522 - val_top_k_categorical_accuracy: 0.9427\n",
      "Epoch 8/50\n",
      "71/71 [==============================] - 50s 699ms/step - loss: 1.0975 - accuracy: 0.7339 - top_k_categorical_accuracy: 0.9186 - val_loss: 0.9501 - val_accuracy: 0.7463 - val_top_k_categorical_accuracy: 0.9390\n",
      "Epoch 9/50\n",
      "71/71 [==============================] - 50s 698ms/step - loss: 1.0550 - accuracy: 0.7360 - top_k_categorical_accuracy: 0.9275 - val_loss: 0.8821 - val_accuracy: 0.7827 - val_top_k_categorical_accuracy: 0.9449\n",
      "Epoch 10/50\n",
      "71/71 [==============================] - 50s 700ms/step - loss: 0.9920 - accuracy: 0.7489 - top_k_categorical_accuracy: 0.9304 - val_loss: 0.8713 - val_accuracy: 0.7775 - val_top_k_categorical_accuracy: 0.9494\n",
      "Epoch 11/50\n",
      "71/71 [==============================] - 50s 699ms/step - loss: 0.9035 - accuracy: 0.7718 - top_k_categorical_accuracy: 0.9398 - val_loss: 0.8481 - val_accuracy: 0.7783 - val_top_k_categorical_accuracy: 0.9457\n",
      "Epoch 12/50\n",
      "71/71 [==============================] - 50s 698ms/step - loss: 0.9029 - accuracy: 0.7643 - top_k_categorical_accuracy: 0.9457 - val_loss: 0.8131 - val_accuracy: 0.7932 - val_top_k_categorical_accuracy: 0.9509\n",
      "Epoch 13/50\n",
      "71/71 [==============================] - 50s 697ms/step - loss: 0.9000 - accuracy: 0.7732 - top_k_categorical_accuracy: 0.9412 - val_loss: 0.7688 - val_accuracy: 0.8021 - val_top_k_categorical_accuracy: 0.9568\n",
      "Epoch 14/50\n",
      "71/71 [==============================] - 49s 697ms/step - loss: 0.8505 - accuracy: 0.7751 - top_k_categorical_accuracy: 0.9423 - val_loss: 0.7828 - val_accuracy: 0.7976 - val_top_k_categorical_accuracy: 0.9531\n",
      "Epoch 15/50\n",
      "71/71 [==============================] - 50s 700ms/step - loss: 0.7509 - accuracy: 0.8088 - top_k_categorical_accuracy: 0.9540 - val_loss: 0.7504 - val_accuracy: 0.7984 - val_top_k_categorical_accuracy: 0.9591\n",
      "Epoch 16/50\n",
      "71/71 [==============================] - 50s 699ms/step - loss: 0.7568 - accuracy: 0.7966 - top_k_categorical_accuracy: 0.9575 - val_loss: 0.7248 - val_accuracy: 0.8140 - val_top_k_categorical_accuracy: 0.9531\n",
      "Epoch 17/50\n",
      "71/71 [==============================] - 50s 700ms/step - loss: 0.7359 - accuracy: 0.8055 - top_k_categorical_accuracy: 0.9585 - val_loss: 0.7362 - val_accuracy: 0.7976 - val_top_k_categorical_accuracy: 0.9598\n",
      "Epoch 18/50\n",
      "71/71 [==============================] - 50s 701ms/step - loss: 0.7223 - accuracy: 0.8099 - top_k_categorical_accuracy: 0.9619 - val_loss: 0.6968 - val_accuracy: 0.8132 - val_top_k_categorical_accuracy: 0.9643\n",
      "Epoch 19/50\n",
      "71/71 [==============================] - 50s 699ms/step - loss: 0.6824 - accuracy: 0.8211 - top_k_categorical_accuracy: 0.9655 - val_loss: 0.7168 - val_accuracy: 0.8065 - val_top_k_categorical_accuracy: 0.9561\n",
      "Epoch 20/50\n",
      "71/71 [==============================] - 50s 700ms/step - loss: 0.7181 - accuracy: 0.8146 - top_k_categorical_accuracy: 0.9609 - val_loss: 0.6981 - val_accuracy: 0.8110 - val_top_k_categorical_accuracy: 0.9606\n",
      "Epoch 21/50\n",
      "71/71 [==============================] - 50s 701ms/step - loss: 0.6840 - accuracy: 0.8179 - top_k_categorical_accuracy: 0.9592 - val_loss: 0.6779 - val_accuracy: 0.8088 - val_top_k_categorical_accuracy: 0.9598\n",
      "Epoch 22/50\n",
      "71/71 [==============================] - 50s 700ms/step - loss: 0.6516 - accuracy: 0.8327 - top_k_categorical_accuracy: 0.9591 - val_loss: 0.6585 - val_accuracy: 0.8192 - val_top_k_categorical_accuracy: 0.9688\n",
      "Epoch 23/50\n",
      "71/71 [==============================] - 50s 699ms/step - loss: 0.6460 - accuracy: 0.8269 - top_k_categorical_accuracy: 0.9692 - val_loss: 0.6531 - val_accuracy: 0.8162 - val_top_k_categorical_accuracy: 0.9635\n",
      "Epoch 24/50\n",
      "71/71 [==============================] - 50s 699ms/step - loss: 0.6400 - accuracy: 0.8281 - top_k_categorical_accuracy: 0.9646 - val_loss: 0.6461 - val_accuracy: 0.8155 - val_top_k_categorical_accuracy: 0.9673\n",
      "Epoch 25/50\n",
      "71/71 [==============================] - 50s 697ms/step - loss: 0.6335 - accuracy: 0.8446 - top_k_categorical_accuracy: 0.9642 - val_loss: 0.6313 - val_accuracy: 0.8289 - val_top_k_categorical_accuracy: 0.9606\n",
      "Epoch 26/50\n",
      "71/71 [==============================] - 50s 700ms/step - loss: 0.5696 - accuracy: 0.8488 - top_k_categorical_accuracy: 0.9731 - val_loss: 0.6381 - val_accuracy: 0.8348 - val_top_k_categorical_accuracy: 0.9628\n",
      "Epoch 27/50\n",
      "71/71 [==============================] - 50s 699ms/step - loss: 0.5857 - accuracy: 0.8515 - top_k_categorical_accuracy: 0.9700 - val_loss: 0.6075 - val_accuracy: 0.8304 - val_top_k_categorical_accuracy: 0.9702\n",
      "Epoch 28/50\n",
      "71/71 [==============================] - 50s 700ms/step - loss: 0.5522 - accuracy: 0.8587 - top_k_categorical_accuracy: 0.9691 - val_loss: 0.6105 - val_accuracy: 0.8326 - val_top_k_categorical_accuracy: 0.9650\n",
      "Epoch 29/50\n",
      "71/71 [==============================] - 50s 700ms/step - loss: 0.5671 - accuracy: 0.8441 - top_k_categorical_accuracy: 0.9684 - val_loss: 0.6169 - val_accuracy: 0.8237 - val_top_k_categorical_accuracy: 0.9635\n",
      "Epoch 30/50\n",
      "71/71 [==============================] - 50s 698ms/step - loss: 0.5707 - accuracy: 0.8425 - top_k_categorical_accuracy: 0.9691 - val_loss: 0.5923 - val_accuracy: 0.8408 - val_top_k_categorical_accuracy: 0.9680\n",
      "Epoch 31/50\n",
      "71/71 [==============================] - 50s 698ms/step - loss: 0.5672 - accuracy: 0.8489 - top_k_categorical_accuracy: 0.9684 - val_loss: 0.6093 - val_accuracy: 0.8274 - val_top_k_categorical_accuracy: 0.9688\n",
      "Epoch 32/50\n",
      "71/71 [==============================] - 50s 702ms/step - loss: 0.5394 - accuracy: 0.8536 - top_k_categorical_accuracy: 0.9736 - val_loss: 0.6204 - val_accuracy: 0.8274 - val_top_k_categorical_accuracy: 0.9665\n",
      "Epoch 33/50\n",
      "71/71 [==============================] - 50s 700ms/step - loss: 0.5173 - accuracy: 0.8627 - top_k_categorical_accuracy: 0.9783 - val_loss: 0.6003 - val_accuracy: 0.8356 - val_top_k_categorical_accuracy: 0.9702\n",
      "Epoch 34/50\n",
      "71/71 [==============================] - 50s 699ms/step - loss: 0.5271 - accuracy: 0.8637 - top_k_categorical_accuracy: 0.9748 - val_loss: 0.5796 - val_accuracy: 0.8438 - val_top_k_categorical_accuracy: 0.9747\n",
      "Epoch 35/50\n",
      "71/71 [==============================] - 50s 699ms/step - loss: 0.5113 - accuracy: 0.8587 - top_k_categorical_accuracy: 0.9758 - val_loss: 0.5842 - val_accuracy: 0.8400 - val_top_k_categorical_accuracy: 0.9702\n",
      "Epoch 36/50\n",
      "71/71 [==============================] - 50s 702ms/step - loss: 0.5003 - accuracy: 0.8635 - top_k_categorical_accuracy: 0.9777 - val_loss: 0.5493 - val_accuracy: 0.8445 - val_top_k_categorical_accuracy: 0.9725\n",
      "Epoch 37/50\n",
      "71/71 [==============================] - 50s 701ms/step - loss: 0.5053 - accuracy: 0.8670 - top_k_categorical_accuracy: 0.9776 - val_loss: 0.5761 - val_accuracy: 0.8430 - val_top_k_categorical_accuracy: 0.9702\n",
      "Epoch 38/50\n",
      "71/71 [==============================] - 50s 699ms/step - loss: 0.5069 - accuracy: 0.8716 - top_k_categorical_accuracy: 0.9763 - val_loss: 0.5825 - val_accuracy: 0.8408 - val_top_k_categorical_accuracy: 0.9695\n",
      "Epoch 39/50\n",
      "71/71 [==============================] - 50s 699ms/step - loss: 0.4979 - accuracy: 0.8656 - top_k_categorical_accuracy: 0.9750 - val_loss: 0.5854 - val_accuracy: 0.8415 - val_top_k_categorical_accuracy: 0.9695\n",
      "Epoch 40/50\n",
      "71/71 [==============================] - 50s 704ms/step - loss: 0.4772 - accuracy: 0.8678 - top_k_categorical_accuracy: 0.9792 - val_loss: 0.5638 - val_accuracy: 0.8475 - val_top_k_categorical_accuracy: 0.9732\n",
      "Epoch 41/50\n",
      "71/71 [==============================] - 49s 692ms/step - loss: 0.4663 - accuracy: 0.8721 - top_k_categorical_accuracy: 0.9776 - val_loss: 0.5664 - val_accuracy: 0.8534 - val_top_k_categorical_accuracy: 0.9702\n",
      "Epoch 42/50\n",
      "71/71 [==============================] - 49s 694ms/step - loss: 0.4900 - accuracy: 0.8640 - top_k_categorical_accuracy: 0.9764 - val_loss: 0.5574 - val_accuracy: 0.8475 - val_top_k_categorical_accuracy: 0.9732\n",
      "Epoch 43/50\n",
      "71/71 [==============================] - 49s 693ms/step - loss: 0.4811 - accuracy: 0.8646 - top_k_categorical_accuracy: 0.9772 - val_loss: 0.5559 - val_accuracy: 0.8415 - val_top_k_categorical_accuracy: 0.9725\n",
      "Epoch 44/50\n",
      "71/71 [==============================] - 50s 697ms/step - loss: 0.4446 - accuracy: 0.8793 - top_k_categorical_accuracy: 0.9770 - val_loss: 0.5685 - val_accuracy: 0.8438 - val_top_k_categorical_accuracy: 0.9717\n",
      "Epoch 45/50\n",
      "71/71 [==============================] - 49s 691ms/step - loss: 0.4793 - accuracy: 0.8673 - top_k_categorical_accuracy: 0.9716 - val_loss: 0.5638 - val_accuracy: 0.8430 - val_top_k_categorical_accuracy: 0.9710\n",
      "Epoch 46/50\n",
      "71/71 [==============================] - 49s 691ms/step - loss: 0.4227 - accuracy: 0.8829 - top_k_categorical_accuracy: 0.9851 - val_loss: 0.5447 - val_accuracy: 0.8460 - val_top_k_categorical_accuracy: 0.9710\n",
      "Epoch 47/50\n",
      "71/71 [==============================] - 49s 686ms/step - loss: 0.4427 - accuracy: 0.8799 - top_k_categorical_accuracy: 0.9764 - val_loss: 0.5205 - val_accuracy: 0.8594 - val_top_k_categorical_accuracy: 0.9747\n",
      "Epoch 48/50\n",
      "71/71 [==============================] - 49s 691ms/step - loss: 0.4616 - accuracy: 0.8753 - top_k_categorical_accuracy: 0.9826 - val_loss: 0.5296 - val_accuracy: 0.8638 - val_top_k_categorical_accuracy: 0.9762\n",
      "Epoch 49/50\n",
      "71/71 [==============================] - 49s 691ms/step - loss: 0.4387 - accuracy: 0.8824 - top_k_categorical_accuracy: 0.9799 - val_loss: 0.5432 - val_accuracy: 0.8475 - val_top_k_categorical_accuracy: 0.9754\n",
      "Epoch 50/50\n",
      "71/71 [==============================] - 49s 692ms/step - loss: 0.4210 - accuracy: 0.8848 - top_k_categorical_accuracy: 0.9810 - val_loss: 0.5452 - val_accuracy: 0.8467 - val_top_k_categorical_accuracy: 0.9725\n"
     ],
     "name": "stdout"
    },
    {
     "output_type": "execute_result",
     "data": {
      "text/plain": [
       "<tensorflow.python.keras.callbacks.History at 0x7fb6c4166250>"
      ]
     },
     "metadata": {
      "tags": []
     },
     "execution_count": 43
    }
   ]
  },
  {
   "cell_type": "code",
   "metadata": {
    "id": "8ZR2-GHsTdeR",
    "colab": {
     "base_uri": "https://localhost:8080/"
    },
    "outputId": "52387939-3a3f-4fbc-cfcd-ce6add71deb4"
   },
   "source": [
    "scores = model.evaluate_generator(test_generator, nb_test_samples // batch_size)"
   ],
   "execution_count": null,
   "outputs": [
    {
     "output_type": "stream",
     "text": [
      "/usr/local/lib/python3.7/dist-packages/tensorflow/python/keras/engine/training.py:1877: UserWarning: `Model.evaluate_generator` is deprecated and will be removed in a future version. Please use `Model.evaluate`, which supports generators.\n",
      "  warnings.warn('`Model.evaluate_generator` is deprecated and '\n"
     ],
     "name": "stderr"
    }
   ]
  },
  {
   "cell_type": "code",
   "metadata": {
    "id": "x26czwH4TfRh",
    "colab": {
     "base_uri": "https://localhost:8080/"
    },
    "outputId": "9814310d-60ba-452b-dfd8-8023c72902b1"
   },
   "source": [
    "print(\"Точность на тестовых данных: %.2f%%\" % (scores[1]*100))\n",
    "print(scores)"
   ],
   "execution_count": null,
   "outputs": [
    {
     "output_type": "stream",
     "text": [
      "Точность на тестовых данных: 83.89%\n",
      "[0.6330968141555786, 0.8388671875, 0.95703125]\n"
     ],
     "name": "stdout"
    }
   ]
  },
  {
   "cell_type": "code",
   "metadata": {
    "id": "HmYXWmCITdqR",
    "pycharm": {
     "name": "#%%\n"
    }
   },
   "source": [
    "model.save(\"drive/MyDrive/result/MobileNetV2_model.h5\")\n",
    "\n",
    "model.save_weights('drive/MyDrive/result/MobileNetV2_weights.h5')\n"
   ],
   "execution_count": null,
   "outputs": []
  }
 ]
}